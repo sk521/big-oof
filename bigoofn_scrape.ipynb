{
 "cells": [
  {
   "cell_type": "code",
   "execution_count": 1,
   "metadata": {},
   "outputs": [],
   "source": [
    "from selenium import webdriver\n",
    "from selenium.webdriver.common.keys import Keys\n",
    "from selenium.webdriver.common.by import By\n",
    "from selenium.webdriver.support.ui import WebDriverWait \n",
    "from selenium.webdriver.support import expected_conditions as EC \n",
    "from selenium.common.exceptions import TimeoutException\n",
    "\n",
    "import time\n",
    "\n",
    "import pandas as pd"
   ]
  },
  {
   "cell_type": "code",
   "execution_count": 2,
   "metadata": {},
   "outputs": [],
   "source": [
    "import pickle\n",
    "from tqdm import tqdm\n",
    "import requests\n",
    "from bs4 import BeautifulSoup\n",
    "\n",
    "import warnings\n",
    "warnings.filterwarnings('ignore')"
   ]
  },
  {
   "cell_type": "code",
   "execution_count": 3,
   "metadata": {},
   "outputs": [],
   "source": [
    "def getAndParseUrl(url):\n",
    "    results = requests.get(url)\n",
    "    time.sleep(1)\n",
    "    soup = BeautifulSoup(results.text, 'html.parser')\n",
    "    return soup"
   ]
  },
  {
   "cell_type": "code",
   "execution_count": 169,
   "metadata": {},
   "outputs": [],
   "source": [
    "soup = getAndParseUrl('https://www.bigoofn.com/search')"
   ]
  },
  {
   "cell_type": "code",
   "execution_count": 190,
   "metadata": {},
   "outputs": [
    {
     "data": {
      "text/plain": [
       "[<div autocomplete=\"organization\" class=\"chips search-chips-keywords chips-keywords modified chips-placeholder\" id=\"keywords\"></div>,\n",
       " <div class=\"modified\">\n",
       " <!-- <div class=\"search-details\">\n",
       "                         <div>3,105 jobs found</div>\n",
       "                         <div>Page 1 of 502</div>\n",
       "                     </div> -->\n",
       " <div class=\"pagination\" style=\"display: none;\">\n",
       " <span class=\"previous_link\" onclick=\"\">\n",
       " <svg fill=\"none\" height=\"10\" style=\"padding-top: 1px;\" viewbox=\"0 0 6 10\" width=\"6\" xmlns=\"http://www.w3.org/2000/svg\">\n",
       " <path clip-rule=\"evenodd\" d=\"M6 1.16667L2.27027 5L6 8.83333L4.86487 10L9.53674e-07 5L4.86487 0L6 1.16667Z\" fill=\"#828282\" fill-rule=\"evenodd\"></path>\n",
       " </svg>\n",
       "                               PREV\n",
       "                         </span> \n",
       "                         <span class=\"current_page_no\">1</span> of \n",
       "                         <span class=\"page_count\">1</span> \n",
       "                         <span class=\"next_link\" onclick=\"\">\n",
       "                             NEXT  \n",
       "                             <svg fill=\"none\" height=\"10\" style=\"padding-top: 1px;\" viewbox=\"0 0 6 10\" width=\"6\" xmlns=\"http://www.w3.org/2000/svg\">\n",
       " <path clip-rule=\"evenodd\" d=\"M0 8.83333L3.72973 5L0 1.16667L1.13513 0L6 5L1.13513 10L0 8.83333Z\" fill=\"#828282\" fill-rule=\"evenodd\"></path>\n",
       " </svg>\n",
       " </span>\n",
       " <br/>\n",
       " </div>\n",
       " <div id=\"search_results\"></div>\n",
       " <div class=\"pagination\" style=\"display: none;padding-bottom: 50px;\">\n",
       " <svg class=\"gototop\" fill=\"none\" height=\"61\" onclick=\"javascript:$('html, body').animate({scrollTop: 0}, 300);\" viewbox=\"0 0 61 61\" width=\"61\" xmlns=\"http://www.w3.org/2000/svg\">\n",
       " <g filter=\"url(#filter0_d)\">\n",
       " <circle cx=\"30.5\" cy=\"26.5\" fill=\"#2F80ED\" r=\"20.5\"></circle>\n",
       " </g>\n",
       " <path d=\"M23.6412 28.8883L30.5027 21.9204L37.3643 28.8875C37.435 28.9569 37.5298 28.9953 37.6281 28.9944C37.7265 28.9936 37.8206 28.9535 37.8901 28.8829C37.9597 28.8123 37.9991 28.7167 38 28.6169C38.0008 28.517 37.963 28.4208 37.8947 28.349L30.7676 21.1122C30.7328 21.0766 30.6915 21.0484 30.646 21.0292C30.6005 21.0099 30.5517 21 30.5024 21C30.453 21 30.4042 21.0099 30.3587 21.0292C30.3132 21.0484 30.2719 21.0766 30.2371 21.1122L23.11 28.349C23.0751 28.3844 23.0475 28.4264 23.0286 28.4727C23.0097 28.519 23 28.5686 23 28.6186C23 28.6687 23.0097 28.7183 23.0286 28.7646C23.0475 28.8108 23.0751 28.8529 23.11 28.8883C23.1449 28.9237 23.1863 28.9518 23.2319 28.971C23.2774 28.9901 23.3263 29 23.3756 29C23.4249 29 23.4737 28.9901 23.5193 28.971C23.5649 28.9518 23.6063 28.9237 23.6412 28.8883Z\" fill=\"white\" stroke=\"white\" stroke-width=\"0.4\"></path>\n",
       " <defs>\n",
       " <filter color-interpolation-filters=\"sRGB\" filterunits=\"userSpaceOnUse\" height=\"61\" id=\"filter0_d\" width=\"61\" x=\"0\" y=\"0\">\n",
       " <feflood flood-opacity=\"0\" result=\"BackgroundImageFix\"></feflood>\n",
       " <fecolormatrix in=\"SourceAlpha\" type=\"matrix\" values=\"0 0 0 0 0 0 0 0 0 0 0 0 0 0 0 0 0 0 127 0\"></fecolormatrix>\n",
       " <feoffset dy=\"4\"></feoffset>\n",
       " <fegaussianblur stddeviation=\"5\"></fegaussianblur>\n",
       " <fecolormatrix type=\"matrix\" values=\"0 0 0 0 0.184314 0 0 0 0 0.501961 0 0 0 0 0.929412 0 0 0 0.32 0\"></fecolormatrix>\n",
       " <feblend in2=\"BackgroundImageFix\" mode=\"normal\" result=\"effect1_dropShadow\"></feblend>\n",
       " <feblend in=\"SourceGraphic\" in2=\"effect1_dropShadow\" mode=\"normal\" result=\"shape\"></feblend>\n",
       " </filter>\n",
       " </defs>\n",
       " </svg>\n",
       " <span class=\"previous_link\" onclick=\"\">\n",
       " <svg fill=\"none\" height=\"10\" style=\"padding-top: 1px;\" viewbox=\"0 0 6 10\" width=\"6\" xmlns=\"http://www.w3.org/2000/svg\">\n",
       " <path clip-rule=\"evenodd\" d=\"M6 1.16667L2.27027 5L6 8.83333L4.86487 10L9.53674e-07 5L4.86487 0L6 1.16667Z\" fill=\"#828282\" fill-rule=\"evenodd\"></path>\n",
       " </svg>\n",
       "                               PREV\n",
       "                         </span> \n",
       "                         <span class=\"current_page_no\">1</span> of \n",
       "                         <span class=\"page_count\">1</span> \n",
       "                         <span class=\"next_link\" onclick=\"\">\n",
       "                             NEXT  \n",
       "                             <svg fill=\"none\" height=\"10\" style=\"padding-top: 1px;\" viewbox=\"0 0 6 10\" width=\"6\" xmlns=\"http://www.w3.org/2000/svg\">\n",
       " <path clip-rule=\"evenodd\" d=\"M0 8.83333L3.72973 5L0 1.16667L1.13513 0L6 5L1.13513 10L0 8.83333Z\" fill=\"#828282\" fill-rule=\"evenodd\"></path>\n",
       " </svg>\n",
       " </span>\n",
       " <br/>\n",
       " </div>\n",
       " </div>]"
      ]
     },
     "execution_count": 190,
     "metadata": {},
     "output_type": "execute_result"
    }
   ],
   "source": [
    "soup.select('div.modified')"
   ]
  },
  {
   "cell_type": "code",
   "execution_count": null,
   "metadata": {},
   "outputs": [],
   "source": []
  }
 ],
 "metadata": {
  "kernelspec": {
   "display_name": "Python 3",
   "language": "python",
   "name": "python3"
  },
  "language_info": {
   "codemirror_mode": {
    "name": "ipython",
    "version": 3
   },
   "file_extension": ".py",
   "mimetype": "text/x-python",
   "name": "python",
   "nbconvert_exporter": "python",
   "pygments_lexer": "ipython3",
   "version": "3.7.3"
  },
  "toc": {
   "base_numbering": 1,
   "nav_menu": {},
   "number_sections": true,
   "sideBar": true,
   "skip_h1_title": false,
   "title_cell": "Table of Contents",
   "title_sidebar": "Contents",
   "toc_cell": false,
   "toc_position": {},
   "toc_section_display": true,
   "toc_window_display": false
  }
 },
 "nbformat": 4,
 "nbformat_minor": 2
}
