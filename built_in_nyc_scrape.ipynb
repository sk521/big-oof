{
 "cells": [
  {
   "cell_type": "markdown",
   "metadata": {},
   "source": [
    "# Scraping Built-In-NYC"
   ]
  },
  {
   "cell_type": "code",
   "execution_count": 1,
   "metadata": {},
   "outputs": [],
   "source": [
    "from selenium import webdriver\n",
    "from selenium.webdriver.common.keys import Keys\n",
    "from selenium.webdriver.common.by import By\n",
    "from selenium.webdriver.support.ui import WebDriverWait \n",
    "from selenium.webdriver.support import expected_conditions as EC \n",
    "from selenium.common.exceptions import TimeoutException\n",
    "\n",
    "import time\n",
    "\n",
    "import pandas as pd"
   ]
  },
  {
   "cell_type": "markdown",
   "metadata": {},
   "source": [
    "## Load page"
   ]
  },
  {
   "cell_type": "code",
   "execution_count": 9,
   "metadata": {
    "code_folding": []
   },
   "outputs": [],
   "source": [
    "# load the webpage\n",
    "wd = webdriver.Chrome()\n",
    "wd.get('https://www.builtinnyc.com/jobs')"
   ]
  },
  {
   "cell_type": "markdown",
   "metadata": {},
   "source": [
    "## Load the extra jobs and save them down (need to work on this)"
   ]
  },
  {
   "cell_type": "code",
   "execution_count": 10,
   "metadata": {},
   "outputs": [],
   "source": [
    "# find every load button if there is one\n",
    "load_buttons = wd.find_elements_by_css_selector('span[class=\"load\"]')"
   ]
  },
  {
   "cell_type": "code",
   "execution_count": 11,
   "metadata": {},
   "outputs": [
    {
     "data": {
      "text/plain": [
       "[<selenium.webdriver.remote.webelement.WebElement (session=\"31fcd6e0bb3bde7bd732f666efc98ef0\", element=\"632e6a34-8857-45e5-a43d-4a2411513508\")>]"
      ]
     },
     "execution_count": 11,
     "metadata": {},
     "output_type": "execute_result"
    }
   ],
   "source": [
    "load_buttons"
   ]
  },
  {
   "cell_type": "code",
   "execution_count": null,
   "metadata": {},
   "outputs": [],
   "source": [
    "if load_buttons:\n",
    "    while load_buttons"
   ]
  },
  {
   "cell_type": "code",
   "execution_count": 35,
   "metadata": {
    "scrolled": true
   },
   "outputs": [
    {
     "data": {
      "text/plain": [
       "['Senior Product Manager, Retail',\n",
       " 'Visual Designer, Marketing',\n",
       " 'Information Technology Support Manager - Winklevoss Capital Management',\n",
       " 'Senior Data Analyst',\n",
       " 'Senior Security Engineer',\n",
       " 'Data Analytics Manager - Fraud & User Risk Modeling',\n",
       " 'Director, Compliance Advisory',\n",
       " 'Growth Marketing Lead',\n",
       " 'Senior Software Engineer: Security Products',\n",
       " 'People Operations Specialist, Payroll and Benefits',\n",
       " 'Senior Technical Operations SRE',\n",
       " 'Senior Frontend Engineer',\n",
       " 'Director, Product Security',\n",
       " 'Senior Product Security Engineer',\n",
       " 'Data Engineer',\n",
       " 'Deputy General Counsel, Capital Markets',\n",
       " 'Senior Mobile Engineer (React Native)',\n",
       " 'Marketing Operations Specialist',\n",
       " 'Senior Corporate Counsel',\n",
       " 'Recruiter',\n",
       " 'Software Engineer: Tech Platform',\n",
       " 'Director, Technical Project Management',\n",
       " 'Associate, UX Designer',\n",
       " '',\n",
       " '',\n",
       " '',\n",
       " '',\n",
       " '',\n",
       " '',\n",
       " '']"
      ]
     },
     "execution_count": 35,
     "metadata": {},
     "output_type": "execute_result"
    }
   ],
   "source": [
    "[p.text for p in wd.find_elements_by_css_selector('div[class*=\"collapse-row\"]')]"
   ]
  },
  {
   "cell_type": "markdown",
   "metadata": {},
   "source": [
    "## Get all jobs on current page"
   ]
  },
  {
   "cell_type": "code",
   "execution_count": 39,
   "metadata": {},
   "outputs": [],
   "source": [
    "# find jobs on current page as a list\n",
    "jobs = wd.find_elements_by_css_selector('div[class=\"left-col\"]')"
   ]
  },
  {
   "cell_type": "code",
   "execution_count": 40,
   "metadata": {
    "scrolled": true
   },
   "outputs": [],
   "source": [
    "jobs_list = [t.split('\\n') for t in [x.text for x in jobs]]"
   ]
  },
  {
   "cell_type": "code",
   "execution_count": 47,
   "metadata": {},
   "outputs": [],
   "source": [
    "for job in jobs_list:\n",
    "    try:\n",
    "        job.remove('GREATER NYC AREA')\n",
    "    except:\n",
    "        continue"
   ]
  },
  {
   "cell_type": "code",
   "execution_count": 48,
   "metadata": {},
   "outputs": [
    {
     "data": {
      "text/plain": [
       "[['Senior Data Engineer', 'BREAD', 'FEATURED'],\n",
       " ['Director of Operational Risk', 'BREAD', 'FEATURED'],\n",
       " ['Solution Architect', 'EPAM SYSTEMS', 'FEATURED'],\n",
       " ['Senior Technical Writer', 'MOVABLE INK', '2 WEEKS AGO'],\n",
       " ['Senior Front End Engineer', 'MOVABLE INK', '2 WEEKS AGO'],\n",
       " ['Senior Client Experience Trainer', 'MOVABLE INK', '2 WEEKS AGO'],\n",
       " ['Senior Front End Engineer', 'MOVABLE INK', '2 WEEKS AGO'],\n",
       " ['Associate Director of Client Strategy - Retail',\n",
       "  'MOVABLE INK',\n",
       "  '2 WEEKS AGO'],\n",
       " ['Full Stack Software Engineer', 'ABACUS', '2 WEEKS AGO'],\n",
       " ['Senior Account Executive', 'BIZZABO', '2 WEEKS AGO'],\n",
       " ['Business Development Representative', 'BIZZABO', '2 WEEKS AGO'],\n",
       " ['Account Executive', 'BIZZABO', '2 WEEKS AGO'],\n",
       " ['Product Designer', 'BREAD', '2 WEEKS AGO'],\n",
       " ['Lead Embedded Engineer', 'EIGHT SLEEP', '2 WEEKS AGO'],\n",
       " ['Machine Learning Engineer', 'EIGHT SLEEP', '2 WEEKS AGO'],\n",
       " ['Data Engineer', 'EIGHT SLEEP', '2 WEEKS AGO'],\n",
       " ['Lead Data Engineer', 'EIGHT SLEEP', '2 WEEKS AGO'],\n",
       " ['Backend Engineer', 'EIGHT SLEEP', '2 WEEKS AGO'],\n",
       " ['Associate Counsel', 'COMMON', '2 WEEKS AGO'],\n",
       " ['Director, Product Management, DDI', 'NS1', '2 WEEKS AGO'],\n",
       " ['Sales Development Representative', 'NOWSTA', '2 WEEKS AGO'],\n",
       " ['Senior Full-Stack Engineer', 'NOWSTA', '2 WEEKS AGO'],\n",
       " ['Account Executive', 'NOWSTA', '2 WEEKS AGO']]"
      ]
     },
     "execution_count": 48,
     "metadata": {},
     "output_type": "execute_result"
    }
   ],
   "source": [
    "jobs_list"
   ]
  },
  {
   "cell_type": "code",
   "execution_count": 56,
   "metadata": {},
   "outputs": [],
   "source": [
    "df = pd.DataFrame(jobs_list)"
   ]
  },
  {
   "cell_type": "code",
   "execution_count": 59,
   "metadata": {},
   "outputs": [],
   "source": [
    "df.columns = ['Job_title','Company','Time_passed']"
   ]
  },
  {
   "cell_type": "code",
   "execution_count": 60,
   "metadata": {},
   "outputs": [
    {
     "data": {
      "text/html": [
       "<div>\n",
       "<style scoped>\n",
       "    .dataframe tbody tr th:only-of-type {\n",
       "        vertical-align: middle;\n",
       "    }\n",
       "\n",
       "    .dataframe tbody tr th {\n",
       "        vertical-align: top;\n",
       "    }\n",
       "\n",
       "    .dataframe thead th {\n",
       "        text-align: right;\n",
       "    }\n",
       "</style>\n",
       "<table border=\"1\" class=\"dataframe\">\n",
       "  <thead>\n",
       "    <tr style=\"text-align: right;\">\n",
       "      <th></th>\n",
       "      <th>Job_title</th>\n",
       "      <th>Company</th>\n",
       "      <th>Time_passed</th>\n",
       "    </tr>\n",
       "  </thead>\n",
       "  <tbody>\n",
       "    <tr>\n",
       "      <th>0</th>\n",
       "      <td>Senior Data Engineer</td>\n",
       "      <td>BREAD</td>\n",
       "      <td>FEATURED</td>\n",
       "    </tr>\n",
       "    <tr>\n",
       "      <th>1</th>\n",
       "      <td>Director of Operational Risk</td>\n",
       "      <td>BREAD</td>\n",
       "      <td>FEATURED</td>\n",
       "    </tr>\n",
       "    <tr>\n",
       "      <th>2</th>\n",
       "      <td>Solution Architect</td>\n",
       "      <td>EPAM SYSTEMS</td>\n",
       "      <td>FEATURED</td>\n",
       "    </tr>\n",
       "    <tr>\n",
       "      <th>3</th>\n",
       "      <td>Senior Technical Writer</td>\n",
       "      <td>MOVABLE INK</td>\n",
       "      <td>2 WEEKS AGO</td>\n",
       "    </tr>\n",
       "    <tr>\n",
       "      <th>4</th>\n",
       "      <td>Senior Front End Engineer</td>\n",
       "      <td>MOVABLE INK</td>\n",
       "      <td>2 WEEKS AGO</td>\n",
       "    </tr>\n",
       "    <tr>\n",
       "      <th>5</th>\n",
       "      <td>Senior Client Experience Trainer</td>\n",
       "      <td>MOVABLE INK</td>\n",
       "      <td>2 WEEKS AGO</td>\n",
       "    </tr>\n",
       "    <tr>\n",
       "      <th>6</th>\n",
       "      <td>Senior Front End Engineer</td>\n",
       "      <td>MOVABLE INK</td>\n",
       "      <td>2 WEEKS AGO</td>\n",
       "    </tr>\n",
       "    <tr>\n",
       "      <th>7</th>\n",
       "      <td>Associate Director of Client Strategy - Retail</td>\n",
       "      <td>MOVABLE INK</td>\n",
       "      <td>2 WEEKS AGO</td>\n",
       "    </tr>\n",
       "    <tr>\n",
       "      <th>8</th>\n",
       "      <td>Full Stack Software Engineer</td>\n",
       "      <td>ABACUS</td>\n",
       "      <td>2 WEEKS AGO</td>\n",
       "    </tr>\n",
       "    <tr>\n",
       "      <th>9</th>\n",
       "      <td>Senior Account Executive</td>\n",
       "      <td>BIZZABO</td>\n",
       "      <td>2 WEEKS AGO</td>\n",
       "    </tr>\n",
       "    <tr>\n",
       "      <th>10</th>\n",
       "      <td>Business Development Representative</td>\n",
       "      <td>BIZZABO</td>\n",
       "      <td>2 WEEKS AGO</td>\n",
       "    </tr>\n",
       "    <tr>\n",
       "      <th>11</th>\n",
       "      <td>Account Executive</td>\n",
       "      <td>BIZZABO</td>\n",
       "      <td>2 WEEKS AGO</td>\n",
       "    </tr>\n",
       "    <tr>\n",
       "      <th>12</th>\n",
       "      <td>Product Designer</td>\n",
       "      <td>BREAD</td>\n",
       "      <td>2 WEEKS AGO</td>\n",
       "    </tr>\n",
       "    <tr>\n",
       "      <th>13</th>\n",
       "      <td>Lead Embedded Engineer</td>\n",
       "      <td>EIGHT SLEEP</td>\n",
       "      <td>2 WEEKS AGO</td>\n",
       "    </tr>\n",
       "    <tr>\n",
       "      <th>14</th>\n",
       "      <td>Machine Learning Engineer</td>\n",
       "      <td>EIGHT SLEEP</td>\n",
       "      <td>2 WEEKS AGO</td>\n",
       "    </tr>\n",
       "    <tr>\n",
       "      <th>15</th>\n",
       "      <td>Data Engineer</td>\n",
       "      <td>EIGHT SLEEP</td>\n",
       "      <td>2 WEEKS AGO</td>\n",
       "    </tr>\n",
       "    <tr>\n",
       "      <th>16</th>\n",
       "      <td>Lead Data Engineer</td>\n",
       "      <td>EIGHT SLEEP</td>\n",
       "      <td>2 WEEKS AGO</td>\n",
       "    </tr>\n",
       "    <tr>\n",
       "      <th>17</th>\n",
       "      <td>Backend Engineer</td>\n",
       "      <td>EIGHT SLEEP</td>\n",
       "      <td>2 WEEKS AGO</td>\n",
       "    </tr>\n",
       "    <tr>\n",
       "      <th>18</th>\n",
       "      <td>Associate Counsel</td>\n",
       "      <td>COMMON</td>\n",
       "      <td>2 WEEKS AGO</td>\n",
       "    </tr>\n",
       "    <tr>\n",
       "      <th>19</th>\n",
       "      <td>Director, Product Management, DDI</td>\n",
       "      <td>NS1</td>\n",
       "      <td>2 WEEKS AGO</td>\n",
       "    </tr>\n",
       "    <tr>\n",
       "      <th>20</th>\n",
       "      <td>Sales Development Representative</td>\n",
       "      <td>NOWSTA</td>\n",
       "      <td>2 WEEKS AGO</td>\n",
       "    </tr>\n",
       "    <tr>\n",
       "      <th>21</th>\n",
       "      <td>Senior Full-Stack Engineer</td>\n",
       "      <td>NOWSTA</td>\n",
       "      <td>2 WEEKS AGO</td>\n",
       "    </tr>\n",
       "    <tr>\n",
       "      <th>22</th>\n",
       "      <td>Account Executive</td>\n",
       "      <td>NOWSTA</td>\n",
       "      <td>2 WEEKS AGO</td>\n",
       "    </tr>\n",
       "  </tbody>\n",
       "</table>\n",
       "</div>"
      ],
      "text/plain": [
       "                                         Job_title       Company  Time_passed\n",
       "0                             Senior Data Engineer         BREAD     FEATURED\n",
       "1                     Director of Operational Risk         BREAD     FEATURED\n",
       "2                               Solution Architect  EPAM SYSTEMS     FEATURED\n",
       "3                          Senior Technical Writer   MOVABLE INK  2 WEEKS AGO\n",
       "4                        Senior Front End Engineer   MOVABLE INK  2 WEEKS AGO\n",
       "5                 Senior Client Experience Trainer   MOVABLE INK  2 WEEKS AGO\n",
       "6                        Senior Front End Engineer   MOVABLE INK  2 WEEKS AGO\n",
       "7   Associate Director of Client Strategy - Retail   MOVABLE INK  2 WEEKS AGO\n",
       "8                     Full Stack Software Engineer        ABACUS  2 WEEKS AGO\n",
       "9                         Senior Account Executive       BIZZABO  2 WEEKS AGO\n",
       "10             Business Development Representative       BIZZABO  2 WEEKS AGO\n",
       "11                               Account Executive       BIZZABO  2 WEEKS AGO\n",
       "12                                Product Designer         BREAD  2 WEEKS AGO\n",
       "13                          Lead Embedded Engineer   EIGHT SLEEP  2 WEEKS AGO\n",
       "14                       Machine Learning Engineer   EIGHT SLEEP  2 WEEKS AGO\n",
       "15                                   Data Engineer   EIGHT SLEEP  2 WEEKS AGO\n",
       "16                              Lead Data Engineer   EIGHT SLEEP  2 WEEKS AGO\n",
       "17                                Backend Engineer   EIGHT SLEEP  2 WEEKS AGO\n",
       "18                               Associate Counsel        COMMON  2 WEEKS AGO\n",
       "19               Director, Product Management, DDI           NS1  2 WEEKS AGO\n",
       "20                Sales Development Representative        NOWSTA  2 WEEKS AGO\n",
       "21                      Senior Full-Stack Engineer        NOWSTA  2 WEEKS AGO\n",
       "22                               Account Executive        NOWSTA  2 WEEKS AGO"
      ]
     },
     "execution_count": 60,
     "metadata": {},
     "output_type": "execute_result"
    }
   ],
   "source": [
    "df"
   ]
  },
  {
   "cell_type": "code",
   "execution_count": 13,
   "metadata": {},
   "outputs": [],
   "source": [
    "def scrape_jobs():\n",
    "    # load the webpage\n",
    "    wd = webdriver.Chrome()\n",
    "    wd.get('https://www.builtinnyc.com/jobs')\n",
    "    \n",
    "    # overall holder for all jobs\n",
    "    df_list = []\n",
    "    \n",
    "    # find the next page button\n",
    "    next_page = wd.find_element_by_partial_link_text('Next')\n",
    "    \n",
    "    while next_page:\n",
    "        \n",
    "        element = WebDriverWait(wd, 5).until(EC.element_to_be_clickable((By.CSS_SELECTOR, 'a[rel=\"next\"]')))\n",
    "        \n",
    "        # find jobs on current page as a list\n",
    "        jobs = wd.find_elements_by_css_selector('div[class=\"left-col\"]')\n",
    "\n",
    "        # find the next page button\n",
    "        next_page = wd.find_element_by_css_selector('a[rel=\"next\"]')\n",
    "        \n",
    "        # save jobs on current page as nested-list\n",
    "        # each inner list is a job, each element being part of the job description\n",
    "        jobs_list = [t.split('\\n') for t in [x.text for x in jobs]]\n",
    "        \n",
    "        # remove location from jobs desriptions\n",
    "        for job in jobs_list:\n",
    "            try:\n",
    "                job.remove('GREATER NYC AREA')\n",
    "            except:\n",
    "                continue\n",
    "        \n",
    "        # add current jobs to df_list\n",
    "        df_list.extend(jobs_list) \n",
    "        pd.to_pickle(df_list,'df_list_pickle')\n",
    "        next_page.click()\n",
    "        \n",
    "        time.sleep(10)\n",
    "    \n",
    "    # create df\n",
    "    df = pd.DataFrame(df_list)\n",
    "    \n",
    "    # set up columns\n",
    "    df.columns = ['Job_title','Company','Time_passed']\n",
    "    \n",
    "    # close driver\n",
    "    wd.close()\n",
    "    \n",
    "    return df"
   ]
  },
  {
   "cell_type": "code",
   "execution_count": 11,
   "metadata": {},
   "outputs": [
    {
     "ename": "TimeoutException",
     "evalue": "Message: \n",
     "output_type": "error",
     "traceback": [
      "\u001b[0;31m---------------------------------------------------------------------------\u001b[0m",
      "\u001b[0;31mTimeoutException\u001b[0m                          Traceback (most recent call last)",
      "\u001b[0;32m<ipython-input-11-b339f658ecd9>\u001b[0m in \u001b[0;36m<module>\u001b[0;34m\u001b[0m\n\u001b[0;32m----> 1\u001b[0;31m \u001b[0mscrape_jobs\u001b[0m\u001b[0;34m(\u001b[0m\u001b[0;34m)\u001b[0m\u001b[0;34m\u001b[0m\u001b[0;34m\u001b[0m\u001b[0m\n\u001b[0m",
      "\u001b[0;32m<ipython-input-10-dc1f7df066dc>\u001b[0m in \u001b[0;36mscrape_jobs\u001b[0;34m()\u001b[0m\n\u001b[1;32m     12\u001b[0m     \u001b[0;32mwhile\u001b[0m \u001b[0mnext_page\u001b[0m\u001b[0;34m:\u001b[0m\u001b[0;34m\u001b[0m\u001b[0;34m\u001b[0m\u001b[0m\n\u001b[1;32m     13\u001b[0m \u001b[0;34m\u001b[0m\u001b[0m\n\u001b[0;32m---> 14\u001b[0;31m         \u001b[0melement\u001b[0m \u001b[0;34m=\u001b[0m \u001b[0mWebDriverWait\u001b[0m\u001b[0;34m(\u001b[0m\u001b[0mwd\u001b[0m\u001b[0;34m,\u001b[0m \u001b[0;36m5\u001b[0m\u001b[0;34m)\u001b[0m\u001b[0;34m.\u001b[0m\u001b[0muntil\u001b[0m\u001b[0;34m(\u001b[0m\u001b[0mEC\u001b[0m\u001b[0;34m.\u001b[0m\u001b[0melement_to_be_clickable\u001b[0m\u001b[0;34m(\u001b[0m\u001b[0;34m(\u001b[0m\u001b[0mBy\u001b[0m\u001b[0;34m.\u001b[0m\u001b[0mCSS_SELECTOR\u001b[0m\u001b[0;34m,\u001b[0m \u001b[0;34m'a[rel=\"next\"]'\u001b[0m\u001b[0;34m)\u001b[0m\u001b[0;34m)\u001b[0m\u001b[0;34m)\u001b[0m\u001b[0;34m\u001b[0m\u001b[0;34m\u001b[0m\u001b[0m\n\u001b[0m\u001b[1;32m     15\u001b[0m \u001b[0;34m\u001b[0m\u001b[0m\n\u001b[1;32m     16\u001b[0m         \u001b[0;31m# find jobs on current page as a list\u001b[0m\u001b[0;34m\u001b[0m\u001b[0;34m\u001b[0m\u001b[0;34m\u001b[0m\u001b[0m\n",
      "\u001b[0;32m~/anaconda3/lib/python3.7/site-packages/selenium/webdriver/support/wait.py\u001b[0m in \u001b[0;36muntil\u001b[0;34m(self, method, message)\u001b[0m\n\u001b[1;32m     78\u001b[0m             \u001b[0;32mif\u001b[0m \u001b[0mtime\u001b[0m\u001b[0;34m.\u001b[0m\u001b[0mtime\u001b[0m\u001b[0;34m(\u001b[0m\u001b[0;34m)\u001b[0m \u001b[0;34m>\u001b[0m \u001b[0mend_time\u001b[0m\u001b[0;34m:\u001b[0m\u001b[0;34m\u001b[0m\u001b[0;34m\u001b[0m\u001b[0m\n\u001b[1;32m     79\u001b[0m                 \u001b[0;32mbreak\u001b[0m\u001b[0;34m\u001b[0m\u001b[0;34m\u001b[0m\u001b[0m\n\u001b[0;32m---> 80\u001b[0;31m         \u001b[0;32mraise\u001b[0m \u001b[0mTimeoutException\u001b[0m\u001b[0;34m(\u001b[0m\u001b[0mmessage\u001b[0m\u001b[0;34m,\u001b[0m \u001b[0mscreen\u001b[0m\u001b[0;34m,\u001b[0m \u001b[0mstacktrace\u001b[0m\u001b[0;34m)\u001b[0m\u001b[0;34m\u001b[0m\u001b[0;34m\u001b[0m\u001b[0m\n\u001b[0m\u001b[1;32m     81\u001b[0m \u001b[0;34m\u001b[0m\u001b[0m\n\u001b[1;32m     82\u001b[0m     \u001b[0;32mdef\u001b[0m \u001b[0muntil_not\u001b[0m\u001b[0;34m(\u001b[0m\u001b[0mself\u001b[0m\u001b[0;34m,\u001b[0m \u001b[0mmethod\u001b[0m\u001b[0;34m,\u001b[0m \u001b[0mmessage\u001b[0m\u001b[0;34m=\u001b[0m\u001b[0;34m''\u001b[0m\u001b[0;34m)\u001b[0m\u001b[0;34m:\u001b[0m\u001b[0;34m\u001b[0m\u001b[0;34m\u001b[0m\u001b[0m\n",
      "\u001b[0;31mTimeoutException\u001b[0m: Message: \n"
     ]
    }
   ],
   "source": [
    "scrape_jobs()"
   ]
  },
  {
   "cell_type": "code",
   "execution_count": 12,
   "metadata": {},
   "outputs": [
    {
     "data": {
      "text/plain": [
       "[['Human Resources Intern', 'EXPERT INSTITUTE', 'FEATURED'],\n",
       " ['Senior Manager, Growth Marketing', 'VTS', 'FEATURED'],\n",
       " ['Senior Sales Recruiter', 'COCKROACH LABS', 'FEATURED'],\n",
       " ['Senior Product Manager/Director of Native Mobile',\n",
       "  'ZOLA',\n",
       "  '14 MINUTES AGO'],\n",
       " ['Senior Product Designer', 'ZOLA', '19 MINUTES AGO'],\n",
       " ['Service & Support Manager', 'SEALED', '1 HOUR AGO'],\n",
       " ['Graphic Designer', 'MOVABLE INK', '10 MINUTES AGO'],\n",
       " ['Senior Product Manager', 'BREAD', '18 MINUTES AGO'],\n",
       " ['Implementation Manager', 'TRUSTPILOT', '22 MINUTES AGO'],\n",
       " ['Senior Application Security Engineer', 'ONDECK', '23 MINUTES AGO'],\n",
       " ['Inside Sales Representative', 'COMMON', '25 MINUTES AGO'],\n",
       " ['Sr. Graphic Designer', 'LEAFLINK', '12 HOURS AGO'],\n",
       " ['Email Marketing Coordinator', 'LEAFLINK', '12 HOURS AGO'],\n",
       " ['Senior Visual Designer', 'TRANSFIX', '12 HOURS AGO'],\n",
       " ['Personal Finance Editor', 'POLICYGENIUS', '12 HOURS AGO'],\n",
       " ['Director of Brand, Partnerships & Events', 'THESKIMM', '12 HOURS AGO'],\n",
       " ['Director of Community & Social Media', 'THESKIMM', '12 HOURS AGO'],\n",
       " ['Marketing Intern', 'REONOMY', '12 HOURS AGO'],\n",
       " ['Community Lead', 'LINA', '17 HOURS AGO'],\n",
       " ['Full Stack Developer', 'TIPICO', 'NORTH JERSEY', '19 HOURS AGO'],\n",
       " ['Frontend Developer', 'TIPICO', 'NORTH JERSEY', '19 HOURS AGO'],\n",
       " ['Business Intelligence Developer / Analyst',\n",
       "  'TIPICO',\n",
       "  'NORTH JERSEY',\n",
       "  '19 HOURS AGO'],\n",
       " ['Content Marketing Manager', 'NEVERWARE', '19 HOURS AGO'],\n",
       " ['Buyer Success Associate, New York', 'SEVENFIFTY', 'FEATURED'],\n",
       " ['Senior Data Analyst', 'ADMARKETPLACE', 'FEATURED'],\n",
       " ['Senior Product Manager', 'NARRATIV', 'FEATURED'],\n",
       " ['Senior Customer Success Manager', 'INTEGRAL AD SCIENCE', '24 MINUTES AGO'],\n",
       " ['Legal Summer Fellow', 'CITYBLOCK HEALTH', '36 MINUTES AGO'],\n",
       " ['Accounts Payable Clerk', 'DAILYPAY, INC.', '36 MINUTES AGO'],\n",
       " ['Business Development Analyst', 'GYMPASS', '37 MINUTES AGO'],\n",
       " [''],\n",
       " ['Data Analyst- Sales & Forecasting - Air (copy)',\n",
       "  'HOPPER',\n",
       "  '37 MINUTES AGO'],\n",
       " ['Workplace & Employee Experience Manager', 'NYLAS', '37 MINUTES AGO'],\n",
       " ['Senior DevOps Engineer', 'OWNBACKUP', '38 MINUTES AGO'],\n",
       " ['Director, B2B Marketing', 'QUADPAY', '38 MINUTES AGO'],\n",
       " ['Part-time Field Sale Representative',\n",
       "  'HEALTHCARE STARTUP',\n",
       "  '39 MINUTES AGO'],\n",
       " ['Business Development Representative', 'TH EXPERIENTIAL', '45 MINUTES AGO'],\n",
       " ['Director, Data Exchanges', 'CAPITAL RX', '1 HOUR AGO'],\n",
       " ['Director of Software Engineering', 'EDN, INC.', '2 HOURS AGO'],\n",
       " ['Director of Marketing', 'EDN, INC.', '3 HOURS AGO'],\n",
       " ['Customer Success Manager', 'AQUANT', '3 HOURS AGO'],\n",
       " ['QA Analyst', 'SWYFFT, LLC', '4 HOURS AGO'],\n",
       " ['Senior Manager, Lifecycle Marketing', 'ZOLA', '4 HOURS AGO'],\n",
       " ['Senior DevOps Engineer', 'ANIMOTO', '4 HOURS AGO'],\n",
       " ['UX Design Manager', 'ANIMOTO', '4 HOURS AGO'],\n",
       " ['Senior Product Manager/Director of Native Mobile', 'ZOLA', '4 HOURS AGO'],\n",
       " ['Principal Software Engineer', 'VTS', 'FEATURED'],\n",
       " ['Senior Data Analyst', 'ADMARKETPLACE', 'FEATURED'],\n",
       " ['Social Media Manager', 'DAILYPAY, INC.', 'FEATURED'],\n",
       " ['Senior Product Designer', 'ZOLA', '4 HOURS AGO'],\n",
       " ['Service & Support Manager', 'SEALED', '5 HOURS AGO'],\n",
       " ['Mid-Level Fullstack Javascript Engineer', 'MANTL', '3 HOURS AGO'],\n",
       " ['Accountant', 'MONDAY.COM', '4 HOURS AGO'],\n",
       " ['Mid Market Account Executive', 'MONDAY.COM', '4 HOURS AGO'],\n",
       " ['Senior Art Director', 'SQUARESPACE', '4 HOURS AGO'],\n",
       " ['Talent Acquisition Specialist', 'BETTERCLOUD', '4 HOURS AGO'],\n",
       " ['Graphic Designer', 'MOVABLE INK', '4 HOURS AGO'],\n",
       " ['Senior UX Designer', 'YEXT', '4 HOURS AGO'],\n",
       " ['Senior Product Manager', 'BREAD', '4 HOURS AGO'],\n",
       " ['Implementation Manager', 'TRUSTPILOT', '4 HOURS AGO'],\n",
       " ['Senior Application Security Engineer', 'ONDECK', '4 HOURS AGO'],\n",
       " ['Inside Sales Representative', 'COMMON', '4 HOURS AGO'],\n",
       " ['Software Engineer - Microservices - Air', 'HOPPER', '15 HOURS AGO'],\n",
       " ['Manager, Product Designer', 'SPRUCE', '15 HOURS AGO'],\n",
       " ['Senior Security Operations Engineer', 'GEMINI', '15 HOURS AGO'],\n",
       " ['Software Engineer, Growth', 'SKILLSHARE', '16 HOURS AGO'],\n",
       " ['Product Designer', 'SEVENROOMS', '16 HOURS AGO'],\n",
       " ['Customer Success Manager, Enterprise', 'SEVENROOMS', '16 HOURS AGO'],\n",
       " ['Implementation Manager', 'VTS', '16 HOURS AGO']]"
      ]
     },
     "execution_count": 12,
     "metadata": {},
     "output_type": "execute_result"
    }
   ],
   "source": [
    "pd.read_pickle('df_list_pickle')"
   ]
  },
  {
   "cell_type": "markdown",
   "metadata": {},
   "source": [
    "## Go to next page"
   ]
  },
  {
   "cell_type": "code",
   "execution_count": 22,
   "metadata": {},
   "outputs": [],
   "source": [
    "el = wd.find_element_by_partial_link_text('Next')\n",
    "\n",
    "# el.click()"
   ]
  },
  {
   "cell_type": "code",
   "execution_count": 120,
   "metadata": {},
   "outputs": [],
   "source": [
    "# This fills search bar and presses enter to search jobs by keyword\n",
    "search_bar = wd.find_element_by_css_selector('input[placeholder=\"Search by keyword\"]')\n",
    "search_bar.send_keys('data')\n",
    "search_bar.send_keys(Keys.ENTER)"
   ]
  },
  {
   "cell_type": "markdown",
   "metadata": {},
   "source": [
    "# Close the webpage"
   ]
  },
  {
   "cell_type": "code",
   "execution_count": 4,
   "metadata": {},
   "outputs": [
    {
     "ename": "NameError",
     "evalue": "name 'wd' is not defined",
     "output_type": "error",
     "traceback": [
      "\u001b[0;31m---------------------------------------------------------------------------\u001b[0m",
      "\u001b[0;31mNameError\u001b[0m                                 Traceback (most recent call last)",
      "\u001b[0;32m<ipython-input-4-cc132db01667>\u001b[0m in \u001b[0;36m<module>\u001b[0;34m\u001b[0m\n\u001b[0;32m----> 1\u001b[0;31m \u001b[0mwd\u001b[0m\u001b[0;34m.\u001b[0m\u001b[0mclose\u001b[0m\u001b[0;34m(\u001b[0m\u001b[0;34m)\u001b[0m\u001b[0;34m\u001b[0m\u001b[0;34m\u001b[0m\u001b[0m\n\u001b[0m",
      "\u001b[0;31mNameError\u001b[0m: name 'wd' is not defined"
     ]
    }
   ],
   "source": [
    "wd.close()"
   ]
  },
  {
   "cell_type": "code",
   "execution_count": null,
   "metadata": {},
   "outputs": [],
   "source": []
  }
 ],
 "metadata": {
  "kernelspec": {
   "display_name": "Python 3",
   "language": "python",
   "name": "python3"
  },
  "language_info": {
   "codemirror_mode": {
    "name": "ipython",
    "version": 3
   },
   "file_extension": ".py",
   "mimetype": "text/x-python",
   "name": "python",
   "nbconvert_exporter": "python",
   "pygments_lexer": "ipython3",
   "version": "3.7.3"
  },
  "toc": {
   "base_numbering": 1,
   "nav_menu": {},
   "number_sections": true,
   "sideBar": true,
   "skip_h1_title": false,
   "title_cell": "Table of Contents",
   "title_sidebar": "Contents",
   "toc_cell": false,
   "toc_position": {},
   "toc_section_display": true,
   "toc_window_display": false
  }
 },
 "nbformat": 4,
 "nbformat_minor": 2
}
