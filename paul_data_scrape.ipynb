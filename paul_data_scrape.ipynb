{
 "cells": [
  {
   "cell_type": "code",
   "execution_count": 134,
   "metadata": {},
   "outputs": [],
   "source": [
    "from selenium import webdriver\n",
    "from selenium.webdriver.common.keys import Keys\n",
    "from selenium.webdriver.common.by import By\n",
    "from selenium.webdriver.support.ui import WebDriverWait \n",
    "from selenium.webdriver.support import expected_conditions as EC \n",
    "from selenium.common.exceptions import TimeoutException\n",
    "\n",
    "wd = webdriver.Chrome()\n",
    "wd.get('https://www.builtinnyc.com/jobs')"
   ]
  },
  {
   "cell_type": "code",
   "execution_count": 29,
   "metadata": {},
   "outputs": [],
   "source": [
    "import pandas as pd"
   ]
  },
  {
   "cell_type": "code",
   "execution_count": 138,
   "metadata": {},
   "outputs": [],
   "source": [
    "items = wd.find_elements_by_css_selector('div[class=\"left-col\"]')"
   ]
  },
  {
   "cell_type": "code",
   "execution_count": 140,
   "metadata": {
    "scrolled": true
   },
   "outputs": [
    {
     "data": {
      "text/plain": [
       "[['Senior Salesforce/Veeva Engineer',\n",
       "  'EPAM SYSTEMS',\n",
       "  'GREATER NYC AREA',\n",
       "  'FEATURED'],\n",
       " ['Software Engineer - Tempus Insights',\n",
       "  'TEMPUS',\n",
       "  'GREATER NYC AREA',\n",
       "  'FEATURED'],\n",
       " ['Analytics Manager', 'TRIALSPARK', 'GREATER NYC AREA', 'FEATURED'],\n",
       " ['Email & Digital Marketing Manager (Association…',\n",
       "  'YMCA OF GREATER NY',\n",
       "  'GREATER NYC AREA',\n",
       "  '3 DAYS AGO'],\n",
       " ['Lead Security Engineer', 'BETTERMENT', 'GREATER NYC AREA', '3 DAYS AGO'],\n",
       " ['Senior Sales Engineer', 'AFFIRM', 'GREATER NYC AREA', '3 DAYS AGO'],\n",
       " ['Strategic Operations Manager',\n",
       "  'BETTERMENT',\n",
       "  'GREATER NYC AREA',\n",
       "  '3 DAYS AGO'],\n",
       " ['Senior Sales Engineer', 'AFFIRM', 'GREATER NYC AREA', '3 DAYS AGO'],\n",
       " ['Full Stack Developer, User Experience Team',\n",
       "  'DOUBLEVERIFY',\n",
       "  'GREATER NYC AREA',\n",
       "  '3 DAYS AGO'],\n",
       " ['2020 Spring Internship - Special Events',\n",
       "  'MAJOR LEAGUE BASEBALL',\n",
       "  'GREATER NYC AREA',\n",
       "  '3 DAYS AGO'],\n",
       " ['Data Analyst', '<INTENT>', 'GREATER NYC AREA', '3 DAYS AGO'],\n",
       " ['Director of Growth Marketing, Retention',\n",
       "  'TODAYTIX',\n",
       "  'GREATER NYC AREA',\n",
       "  '3 DAYS AGO'],\n",
       " ['Data Engineer', 'CELONIS', 'GREATER NYC AREA', '3 DAYS AGO'],\n",
       " ['Community and Learning Intern', 'VTS', 'GREATER NYC AREA', '3 DAYS AGO'],\n",
       " ['Cash Partnerships Lead', 'BREX', 'GREATER NYC AREA', '3 DAYS AGO'],\n",
       " ['Operational Risk Analyst',\n",
       "  'DAILYPAY, INC.',\n",
       "  'GREATER NYC AREA',\n",
       "  '3 DAYS AGO'],\n",
       " ['Director, Tenant Rep Activation & Strategy',\n",
       "  'VTS',\n",
       "  'GREATER NYC AREA',\n",
       "  '3 DAYS AGO'],\n",
       " ['Sales Operations Analyst',\n",
       "  'EXPERT INSTITUTE',\n",
       "  'GREATER NYC AREA',\n",
       "  '3 DAYS AGO'],\n",
       " ['Sr. Data Analyst, Product', 'VIMEO', 'GREATER NYC AREA', '3 DAYS AGO'],\n",
       " ['Contract Sourcing Specialist', 'PAXOS', 'GREATER NYC AREA', '3 DAYS AGO'],\n",
       " ['Data Operations', 'CB INSIGHTS', 'GREATER NYC AREA', '3 DAYS AGO'],\n",
       " ['Contract Technical Recruiter', 'PAXOS', 'GREATER NYC AREA', '3 DAYS AGO'],\n",
       " ['Sales Operations Analyst', 'SIMON DATA', 'GREATER NYC AREA', '3 DAYS AGO']]"
      ]
     },
     "execution_count": 140,
     "metadata": {},
     "output_type": "execute_result"
    }
   ],
   "source": [
    "[t.split('\\n') for t in [x.text for x in items]]"
   ]
  },
  {
   "cell_type": "code",
   "execution_count": 137,
   "metadata": {},
   "outputs": [],
   "source": [
    "el = wd.find_element_by_partial_link_text('Next')\n",
    "\n",
    "el.click()"
   ]
  },
  {
   "cell_type": "code",
   "execution_count": 120,
   "metadata": {},
   "outputs": [],
   "source": [
    "# This fills search bar and presses enter to search jobs by keyword\n",
    "search_bar = wd.find_element_by_css_selector('input[placeholder=\"Search by keyword\"]')\n",
    "search_bar.send_keys('data')\n",
    "search_bar.send_keys(Keys.ENTER)"
   ]
  },
  {
   "cell_type": "code",
   "execution_count": null,
   "metadata": {},
   "outputs": [],
   "source": []
  }
 ],
 "metadata": {
  "kernelspec": {
   "display_name": "Python 3",
   "language": "python",
   "name": "python3"
  },
  "language_info": {
   "codemirror_mode": {
    "name": "ipython",
    "version": 3
   },
   "file_extension": ".py",
   "mimetype": "text/x-python",
   "name": "python",
   "nbconvert_exporter": "python",
   "pygments_lexer": "ipython3",
   "version": "3.7.3"
  },
  "toc": {
   "base_numbering": 1,
   "nav_menu": {},
   "number_sections": true,
   "sideBar": true,
   "skip_h1_title": false,
   "title_cell": "Table of Contents",
   "title_sidebar": "Contents",
   "toc_cell": false,
   "toc_position": {},
   "toc_section_display": true,
   "toc_window_display": false
  }
 },
 "nbformat": 4,
 "nbformat_minor": 2
}
